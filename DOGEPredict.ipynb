{
  "nbformat": 4,
  "nbformat_minor": 0,
  "metadata": {
    "colab": {
      "name": "DOGEPredict.ipynb",
      "provenance": [],
      "collapsed_sections": []
    },
    "kernelspec": {
      "name": "python3",
      "display_name": "Python 3"
    },
    "language_info": {
      "name": "python"
    }
  },
  "cells": [
    {
      "cell_type": "code",
      "metadata": {
        "id": "RWQTaYchgOQP"
      },
      "source": [
        "import matplotlib.pyplot as plt\n",
        "import pandas as pd\n",
        "import numpy as np\n",
        "import requests\n",
        "import matplotlib.ticker as ticker\n",
        "from tensorflow.keras.layers import Dense, LSTM, Dropout\n",
        "from tensorflow.keras.models import Sequential\n",
        "from datetime import datetime, timedelta"
      ],
      "execution_count": 58,
      "outputs": []
    },
    {
      "cell_type": "code",
      "metadata": {
        "id": "RCCw8TqsgUS8"
      },
      "source": [
        "arr = []\n",
        "for i in range(2):\n",
        "    today = datetime.today() - timedelta(i * 30)\n",
        "    req = requests.get('https://crix-api-endpoint.upbit.com/v1/crix/candles/minutes/240?code=CRIX.UPBIT.KRW-DOGE&count=180&to='+ today.strftime(\"%Y-%m-%d\")+'%2024:00:00')\n",
        "    arr += req.json()        \n",
        "\n",
        "#json 데이터화\n",
        "arr.reverse()\n",
        "df = pd.DataFrame(arr)\n",
        "print(df)\n"
      ],
      "execution_count": null,
      "outputs": []
    },
    {
      "cell_type": "code",
      "metadata": {
        "id": "gFGyGy_igrFj"
      },
      "source": [
        "#데이터 자르기\n",
        "df['candleDateTimeKst'] = df['candleDateTimeKst'].str.slice(start=0,stop=19).to_numpy()\n",
        "datachart = df['tradePrice']\n",
        "time = df['candleDateTimeKst'].to_numpy()\n",
        "length = len(datachart)-1\n",
        "\n",
        "\n",
        "plt.figure(figsize=(24, 16))\n",
        "plt.plot(time, datachart)\n",
        "ax=plt.gca()\n",
        "ax.xaxis.set_major_locator(ticker.MultipleLocator(60))\n",
        "plt.xlabel('time')\n",
        "plt.ylabel('price')"
      ],
      "execution_count": null,
      "outputs": []
    },
    {
      "cell_type": "code",
      "metadata": {
        "id": "Mu7I6XiRiE7B"
      },
      "source": [
        "window_size = 6\n",
        "\n",
        "def seq2dataset(datachart,window_size):\n",
        "    X = []; Y = []\n",
        "    for i in range(len(datachart) - window_size):\n",
        "        X.append(np.array(datachart.iloc[i:i+window_size]))\n",
        "        Y.append(np.array(datachart.iloc[i+window_size]))\n",
        "    return np.array(X), np.array(Y)\n",
        "\n",
        "\n",
        "\n",
        "X, Y = seq2dataset(datachart,window_size);\n",
        "X = X.reshape((X.shape[0], X.shape[1], 1))"
      ],
      "execution_count": 61,
      "outputs": []
    },
    {
      "cell_type": "code",
      "metadata": {
        "id": "WQjdv7kBmOoR"
      },
      "source": [
        "split = int(len(X)*0.7)\n",
        "x_train=X[0:split]; y_train=Y[0:split]\n",
        "x_test=X[split:]; y_test=Y[split:]\n",
        "\n",
        "print(x_train.shape)\n",
        "print(x_test.shape)\n",
        "\n",
        "model=Sequential()\n",
        "model.add(LSTM(128,activation='relu',input_shape=(x_train.shape[1], x_train.shape[2], )))\n",
        "model.add(Dense(1))\n",
        "model.compile(loss='mae', optimizer='adam', metrics=['mae']) #mae를 사용해야 특이값에 덜 민감하다.\n",
        "model.fit(x_train, y_train, epochs=100,batch_size=32,validation_data=(x_test,y_test),verbose=2)\n",
        "model.summary()\n",
        "\n",
        "#예측\n",
        "train_predict = model.predict(x_train)\n",
        "test_predict = model.predict(x_test)\n",
        "\n",
        "\n",
        "#실제 데이터\n",
        "plt.figure(figsize=(24, 16))\n",
        "plt.plot(time, datachart)\n",
        "\n",
        "#훈련 결과\n",
        "split_tp = split + window_size\n",
        "plt.plot(np.arange(window_size, split_tp, 1), train_predict, color='g')\n",
        "\n",
        "#테스트 결과\n",
        "plt.plot(np.arange(split_tp, split_tp + len(test_predict), 1), test_predict, color='r')\n",
        "\n",
        "plt.ylabel('Price')\n",
        "ax=plt.gca()\n",
        "ax.xaxis.set_major_locator(ticker.MultipleLocator(60))\n",
        "plt.show()\n",
        "\n",
        "x_range = range(length - 15,length + 1)\n",
        "plt.figure(figsize=(24, 16))\n",
        "plt.plot(time[x_range], datachart[x_range],color='red')\n",
        "plt.plot(time[x_range], test_predict[range(len(test_predict) - 16 ,len(test_predict))], color='blue')\n",
        "ax=plt.gca()\n",
        "ax.xaxis.set_major_locator(ticker.MultipleLocator(2))\n",
        "plt.legend(['True prices', 'Predicted prices'], loc='best')\n",
        "plt.show()"
      ],
      "execution_count": null,
      "outputs": []
    },
    {
      "cell_type": "code",
      "metadata": {
        "colab": {
          "base_uri": "https://localhost:8080/"
        },
        "id": "UoKvTmh6kUjP",
        "outputId": "2a10b0b9-0f6a-4dfb-8a56-87f74d617fb9"
      },
      "source": [
        "now = time[time.size - 1]\n",
        "print(\"최근 시간 데이터 : \", now)\n",
        "\n",
        "\n",
        "newdata = np.array(datachart.iloc[length + 1 - window_size:length+1])\n",
        "newdata = newdata.reshape((1, newdata.shape[0], 1))\n",
        "\n",
        "newPredict = model.predict(newdata)\n",
        "print(\"최근 가격 데이터 : \", datachart[length])\n",
        "print(\"4시간 뒤 가격 예상 : \", newPredict)\n",
        "sub = round(newPredict[0][0] - datachart[length], 2)\n",
        "rate = round((newPredict[0][0]/datachart[length] - 1) * 100, 2)\n",
        "if(sub > 0):\n",
        "  print(\"예상 시간별 손익 : \", \"+\"+ str(sub))\n",
        "else:\n",
        "  print(\"예상 시간별 손익 : \", str(sub))\n",
        "print(\"예상 수익률 : \", str(rate))"
      ],
      "execution_count": 65,
      "outputs": [
        {
          "output_type": "stream",
          "text": [
            "최근 시간 데이터 :  2021-06-02T13:00:00\n",
            "최근 가격 데이터 :  441.0\n",
            "4시간 뒤 가격 예상 :  [[435.33856]]\n",
            "예상 시간별 손익 :  -5.66\n",
            "예상 수익률 :  -1.28\n"
          ],
          "name": "stdout"
        }
      ]
    }
  ]
}